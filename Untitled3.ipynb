{
 "cells": [
  {
   "cell_type": "code",
   "execution_count": 5,
   "id": "c4da840f",
   "metadata": {},
   "outputs": [
    {
     "name": "stdout",
     "output_type": "stream",
     "text": [
      "Conta 1\n",
      "Conta 2\n"
     ]
    },
    {
     "ename": "WebDriverException",
     "evalue": "Message: target frame detached\n  (failed to check if window was closed: disconnected: Unable to receive message from renderer)\n  (Session info: chrome=108.0.5359.125)\nStacktrace:\nBacktrace:\n\t(No symbol) [0x00F4F243]\n\t(No symbol) [0x00ED7FD1]\n\t(No symbol) [0x00DCCF10]\n\t(No symbol) [0x00DBF9DB]\n\t(No symbol) [0x00DBE7E8]\n\t(No symbol) [0x00DBEEF7]\n\t(No symbol) [0x00DC7F08]\n\t(No symbol) [0x00DD36F8]\n\t(No symbol) [0x00E2CC37]\n\t(No symbol) [0x00E18386]\n\t(No symbol) [0x00DF163C]\n\t(No symbol) [0x00DF269D]\n\tGetHandleVerifier [0x011E9A22+2655074]\n\tGetHandleVerifier [0x011DCA24+2601828]\n\tGetHandleVerifier [0x00FF8C0A+619850]\n\tGetHandleVerifier [0x00FF7830+614768]\n\t(No symbol) [0x00EE05FC]\n\t(No symbol) [0x00EE5968]\n\t(No symbol) [0x00EE5A55]\n\t(No symbol) [0x00EF051B]\n\tBaseThreadInitThunk [0x773E00F9+25]\n\tRtlGetAppContainerNamedObjectPath [0x77A27BBE+286]\n\tRtlGetAppContainerNamedObjectPath [0x77A27B8E+238]\n",
     "output_type": "error",
     "traceback": [
      "\u001b[1;31m---------------------------------------------------------------------------\u001b[0m",
      "\u001b[1;31mWebDriverException\u001b[0m                        Traceback (most recent call last)",
      "Input \u001b[1;32mIn [5]\u001b[0m, in \u001b[0;36m<cell line: 18>\u001b[1;34m()\u001b[0m\n\u001b[0;32m     53\u001b[0m pyautogui\u001b[38;5;241m.\u001b[39mdragTo(x\u001b[38;5;241m=\u001b[39m\u001b[38;5;241m368\u001b[39m, y\u001b[38;5;241m=\u001b[39m\u001b[38;5;241m323\u001b[39m, duration\u001b[38;5;241m=\u001b[39m\u001b[38;5;241m1\u001b[39m)\n\u001b[0;32m     55\u001b[0m time\u001b[38;5;241m.\u001b[39msleep(\u001b[38;5;241m5\u001b[39m)\n\u001b[1;32m---> 57\u001b[0m \u001b[43mdriver\u001b[49m\u001b[38;5;241;43m.\u001b[39;49m\u001b[43mget\u001b[49m\u001b[43m(\u001b[49m\u001b[38;5;124;43m'\u001b[39;49m\u001b[38;5;124;43mhttps://a.aliexpress.com/_mNTdR0g\u001b[39;49m\u001b[38;5;124;43m'\u001b[39;49m\u001b[43m)\u001b[49m \u001b[38;5;66;03m#link de corte\u001b[39;00m\n\u001b[0;32m     59\u001b[0m \u001b[38;5;28;01mtry\u001b[39;00m:\n\u001b[0;32m     61\u001b[0m     elemento \u001b[38;5;241m=\u001b[39m driver\u001b[38;5;241m.\u001b[39mfind_element(\n\u001b[0;32m     62\u001b[0m         By\u001b[38;5;241m.\u001b[39mXPATH, \u001b[38;5;124m'\u001b[39m\u001b[38;5;124m/html/body/div[4]/div/div/div[2]/div/div[2]/div/div/div[3]/div/div[2]/div[2]/div\u001b[39m\u001b[38;5;124m'\u001b[39m)\n",
      "File \u001b[1;32m~\\anaconda3\\lib\\site-packages\\undetected_chromedriver\\__init__.py:78\u001b[0m, in \u001b[0;36mChrome.__new__.<locals>._get_wrapped\u001b[1;34m(*args, **kwargs)\u001b[0m\n\u001b[0;32m     58\u001b[0m \u001b[38;5;28;01mif\u001b[39;00m instance\u001b[38;5;241m.\u001b[39mexecute_script(\u001b[38;5;124m\"\u001b[39m\u001b[38;5;124mreturn navigator.webdriver\u001b[39m\u001b[38;5;124m\"\u001b[39m):\n\u001b[0;32m     59\u001b[0m     instance\u001b[38;5;241m.\u001b[39mexecute_cdp_cmd(\n\u001b[0;32m     60\u001b[0m         \u001b[38;5;124m\"\u001b[39m\u001b[38;5;124mPage.addScriptToEvaluateOnNewDocument\u001b[39m\u001b[38;5;124m\"\u001b[39m,\n\u001b[0;32m     61\u001b[0m         {\n\u001b[1;32m   (...)\u001b[0m\n\u001b[0;32m     76\u001b[0m         },\n\u001b[0;32m     77\u001b[0m     )\n\u001b[1;32m---> 78\u001b[0m \u001b[38;5;28;01mreturn\u001b[39;00m instance\u001b[38;5;241m.\u001b[39m_orig_get(\u001b[38;5;241m*\u001b[39margs, \u001b[38;5;241m*\u001b[39m\u001b[38;5;241m*\u001b[39mkwargs)\n",
      "File \u001b[1;32m~\\anaconda3\\lib\\site-packages\\selenium\\webdriver\\remote\\webdriver.py:442\u001b[0m, in \u001b[0;36mWebDriver.get\u001b[1;34m(self, url)\u001b[0m\n\u001b[0;32m    438\u001b[0m \u001b[38;5;28;01mdef\u001b[39;00m \u001b[38;5;21mget\u001b[39m(\u001b[38;5;28mself\u001b[39m, url: \u001b[38;5;28mstr\u001b[39m) \u001b[38;5;241m-\u001b[39m\u001b[38;5;241m>\u001b[39m \u001b[38;5;28;01mNone\u001b[39;00m:\n\u001b[0;32m    439\u001b[0m     \u001b[38;5;124;03m\"\"\"\u001b[39;00m\n\u001b[0;32m    440\u001b[0m \u001b[38;5;124;03m    Loads a web page in the current browser session.\u001b[39;00m\n\u001b[0;32m    441\u001b[0m \u001b[38;5;124;03m    \"\"\"\u001b[39;00m\n\u001b[1;32m--> 442\u001b[0m     \u001b[38;5;28;43mself\u001b[39;49m\u001b[38;5;241;43m.\u001b[39;49m\u001b[43mexecute\u001b[49m\u001b[43m(\u001b[49m\u001b[43mCommand\u001b[49m\u001b[38;5;241;43m.\u001b[39;49m\u001b[43mGET\u001b[49m\u001b[43m,\u001b[49m\u001b[43m \u001b[49m\u001b[43m{\u001b[49m\u001b[38;5;124;43m'\u001b[39;49m\u001b[38;5;124;43murl\u001b[39;49m\u001b[38;5;124;43m'\u001b[39;49m\u001b[43m:\u001b[49m\u001b[43m \u001b[49m\u001b[43murl\u001b[49m\u001b[43m}\u001b[49m\u001b[43m)\u001b[49m\n",
      "File \u001b[1;32m~\\anaconda3\\lib\\site-packages\\selenium\\webdriver\\remote\\webdriver.py:430\u001b[0m, in \u001b[0;36mWebDriver.execute\u001b[1;34m(self, driver_command, params)\u001b[0m\n\u001b[0;32m    428\u001b[0m response \u001b[38;5;241m=\u001b[39m \u001b[38;5;28mself\u001b[39m\u001b[38;5;241m.\u001b[39mcommand_executor\u001b[38;5;241m.\u001b[39mexecute(driver_command, params)\n\u001b[0;32m    429\u001b[0m \u001b[38;5;28;01mif\u001b[39;00m response:\n\u001b[1;32m--> 430\u001b[0m     \u001b[38;5;28;43mself\u001b[39;49m\u001b[38;5;241;43m.\u001b[39;49m\u001b[43merror_handler\u001b[49m\u001b[38;5;241;43m.\u001b[39;49m\u001b[43mcheck_response\u001b[49m\u001b[43m(\u001b[49m\u001b[43mresponse\u001b[49m\u001b[43m)\u001b[49m\n\u001b[0;32m    431\u001b[0m     response[\u001b[38;5;124m'\u001b[39m\u001b[38;5;124mvalue\u001b[39m\u001b[38;5;124m'\u001b[39m] \u001b[38;5;241m=\u001b[39m \u001b[38;5;28mself\u001b[39m\u001b[38;5;241m.\u001b[39m_unwrap_value(\n\u001b[0;32m    432\u001b[0m         response\u001b[38;5;241m.\u001b[39mget(\u001b[38;5;124m'\u001b[39m\u001b[38;5;124mvalue\u001b[39m\u001b[38;5;124m'\u001b[39m, \u001b[38;5;28;01mNone\u001b[39;00m))\n\u001b[0;32m    433\u001b[0m     \u001b[38;5;28;01mreturn\u001b[39;00m response\n",
      "File \u001b[1;32m~\\anaconda3\\lib\\site-packages\\selenium\\webdriver\\remote\\errorhandler.py:247\u001b[0m, in \u001b[0;36mErrorHandler.check_response\u001b[1;34m(self, response)\u001b[0m\n\u001b[0;32m    245\u001b[0m         alert_text \u001b[38;5;241m=\u001b[39m value[\u001b[38;5;124m'\u001b[39m\u001b[38;5;124malert\u001b[39m\u001b[38;5;124m'\u001b[39m]\u001b[38;5;241m.\u001b[39mget(\u001b[38;5;124m'\u001b[39m\u001b[38;5;124mtext\u001b[39m\u001b[38;5;124m'\u001b[39m)\n\u001b[0;32m    246\u001b[0m     \u001b[38;5;28;01mraise\u001b[39;00m exception_class(message, screen, stacktrace, alert_text)  \u001b[38;5;66;03m# type: ignore[call-arg]  # mypy is not smart enough here\u001b[39;00m\n\u001b[1;32m--> 247\u001b[0m \u001b[38;5;28;01mraise\u001b[39;00m exception_class(message, screen, stacktrace)\n",
      "\u001b[1;31mWebDriverException\u001b[0m: Message: target frame detached\n  (failed to check if window was closed: disconnected: Unable to receive message from renderer)\n  (Session info: chrome=108.0.5359.125)\nStacktrace:\nBacktrace:\n\t(No symbol) [0x00F4F243]\n\t(No symbol) [0x00ED7FD1]\n\t(No symbol) [0x00DCCF10]\n\t(No symbol) [0x00DBF9DB]\n\t(No symbol) [0x00DBE7E8]\n\t(No symbol) [0x00DBEEF7]\n\t(No symbol) [0x00DC7F08]\n\t(No symbol) [0x00DD36F8]\n\t(No symbol) [0x00E2CC37]\n\t(No symbol) [0x00E18386]\n\t(No symbol) [0x00DF163C]\n\t(No symbol) [0x00DF269D]\n\tGetHandleVerifier [0x011E9A22+2655074]\n\tGetHandleVerifier [0x011DCA24+2601828]\n\tGetHandleVerifier [0x00FF8C0A+619850]\n\tGetHandleVerifier [0x00FF7830+614768]\n\t(No symbol) [0x00EE05FC]\n\t(No symbol) [0x00EE5968]\n\t(No symbol) [0x00EE5A55]\n\t(No symbol) [0x00EF051B]\n\tBaseThreadInitThunk [0x773E00F9+25]\n\tRtlGetAppContainerNamedObjectPath [0x77A27BBE+286]\n\tRtlGetAppContainerNamedObjectPath [0x77A27B8E+238]\n"
     ]
    }
   ],
   "source": [
    "from selenium import webdriver\n",
    "from selenium.webdriver.chrome.options import Options\n",
    "from selenium.webdriver.common.by import By\n",
    "from selenium.common.exceptions import NoSuchElementException\n",
    "import time\n",
    "import undetected_chromedriver as uc\n",
    "import pyautogui\n",
    "\n",
    "#link_pechincha = input('Digite o link da sua pechincha ')\n",
    "\n",
    "conta = 0\n",
    "\n",
    "with open('email.txt') as email:\n",
    "    content = email.readlines()\n",
    "\n",
    "content = [x.strip('\\n') for x in content]\n",
    "\n",
    "for x in content:   \n",
    "\n",
    "    mobile_emulation = {\n",
    "        \"deviceMetrics\": {\"width\": 375, \"height\": 812, \"pixelRatio\": 3.0},\n",
    "        \"userAgent\": \"Mozilla/5.0 (Linux; Android 4.2.1; en-us; Nexus 5 Build/JOP40D) AppleWebKit/535.19 (KHTML, like Gecko) Chrome/18.0.1025.166 Mobile Safari/535.19\"\n",
    "    }\n",
    "\n",
    "    chrome_options = uc.ChromeOptions()\n",
    "    chrome_options.add_experimental_option(\n",
    "        \"mobileEmulation\", mobile_emulation)\n",
    "    # chrome_options.add_argument(\"--headless\")\n",
    "    driver = uc.Chrome(\n",
    "        options=chrome_options\n",
    "\n",
    "    )\n",
    "\n",
    "    driver.get('https://login.aliexpress.com/')\n",
    "\n",
    "    while len(driver.find_elements(By.XPATH, '/html/body/div/div[2]/div/div[2]/div/div/div[1]/span/span[1]/input')) == 0:\n",
    "        time.sleep(1)\n",
    "\n",
    "    driver.find_element(\n",
    "        By.XPATH, '/html/body/div/div[2]/div/div[2]/div/div/div[1]/span/span[1]/input').send_keys(x)\n",
    "\n",
    "    driver.find_element(\n",
    "        By.XPATH, '/html/body/div/div[2]/div/div[2]/div/div/div[2]/span/span[1]/input').send_keys('Junior13#') #senha dos emails        \n",
    "\n",
    "\n",
    "    driver.find_element(\n",
    "        By.XPATH, '/html/body/div/div[2]/div/div[2]/div/div/button[2]').click()\n",
    "\n",
    "    time.sleep(7)\n",
    "\n",
    "    pyautogui.moveTo(x=34, y=326)\n",
    "\n",
    "    pyautogui.dragTo(x=368, y=323, duration=1)\n",
    "\n",
    "    time.sleep(5)\n",
    "\n",
    "    driver.get('https://a.aliexpress.com/_mNTdR0g') #link de corte\n",
    "\n",
    "    try:\n",
    "\n",
    "        elemento = driver.find_element(\n",
    "            By.XPATH, '/html/body/div[4]/div/div/div[2]/div/div[2]/div/div/div[3]/div/div[2]/div[2]/div')\n",
    "        if elemento.is_displayed():\n",
    "            elemento.click()\n",
    "\n",
    "    except NoSuchElementException:\n",
    "\n",
    "        print('ERROR 403')\n",
    "\n",
    "    time.sleep(2)\n",
    "\n",
    "    conta += 1\n",
    "\n",
    "    print(f'Conta {conta}')\n",
    "\n",
    "    time.sleep(1)\n",
    "\n",
    "    driver.close()\n",
    "    \n",
    "    time.sleep(3)"
   ]
  },
  {
   "cell_type": "code",
   "execution_count": null,
   "id": "6845cce7",
   "metadata": {},
   "outputs": [],
   "source": [
    "\n",
    "\n"
   ]
  },
  {
   "cell_type": "code",
   "execution_count": null,
   "id": "0d4ecbef",
   "metadata": {},
   "outputs": [],
   "source": []
  },
  {
   "cell_type": "code",
   "execution_count": null,
   "id": "d39088c3",
   "metadata": {},
   "outputs": [],
   "source": []
  }
 ],
 "metadata": {
  "kernelspec": {
   "display_name": "Python 3 (ipykernel)",
   "language": "python",
   "name": "python3"
  },
  "language_info": {
   "codemirror_mode": {
    "name": "ipython",
    "version": 3
   },
   "file_extension": ".py",
   "mimetype": "text/x-python",
   "name": "python",
   "nbconvert_exporter": "python",
   "pygments_lexer": "ipython3",
   "version": "3.9.12"
  }
 },
 "nbformat": 4,
 "nbformat_minor": 5
}
